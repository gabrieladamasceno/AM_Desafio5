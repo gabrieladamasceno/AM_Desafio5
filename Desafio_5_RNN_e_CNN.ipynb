{
  "cells": [
    {
      "cell_type": "markdown",
      "metadata": {
        "id": "view-in-github",
        "colab_type": "text"
      },
      "source": [
        "<a href=\"https://colab.research.google.com/github/gabrieladamasceno/AM_Desafio5/blob/main/Desafio_5_RNN_e_CNN.ipynb\" target=\"_parent\"><img src=\"https://colab.research.google.com/assets/colab-badge.svg\" alt=\"Open In Colab\"/></a>"
      ]
    },
    {
      "cell_type": "markdown",
      "source": [
        "# **Desafio 5 - Comparação RN e CNN**\n",
        "\n",
        "Professor: Cleber Zanchettin\n",
        "\n",
        "Aluna: Maria Gabriela Lima Damasceno"
      ],
      "metadata": {
        "id": "1IIJqHe1lroG"
      }
    },
    {
      "cell_type": "markdown",
      "metadata": {
        "id": "E-vXsXgUYlQh"
      },
      "source": [
        "#Introdução"
      ]
    },
    {
      "cell_type": "markdown",
      "metadata": {
        "id": "VKNaOZ8nYlQi"
      },
      "source": [
        "Dentro os objetivos da atividade destacam-se:\n",
        "* Preparar dados de imagens em formato csv para treinamento;\n",
        "* Criar e compilar um modelo simples para classificação de imagens;\n",
        "* Treinar um modelo de classificação de imagens e observar os resultados;\n",
        "* Comparar o modelo de RN com CNN."
      ]
    },
    {
      "cell_type": "markdown",
      "metadata": {
        "id": "7s67AgAsYlQn"
      },
      "source": [
        "#Vizualização dos Dados"
      ]
    },
    {
      "cell_type": "markdown",
      "metadata": {
        "id": "NS_NASc3YlQn"
      },
      "source": [
        "O dataset é dividido entre treino e validação, definindo os dados e as labels em arquivos de csv diferentes como: `x_train`, `y_train`, `x_valid`, and `y_valid` variables as before. O dataset faz o reconhecimento de algarismos arábicos manuscritos incluindo a variação ilimitada na caligrafia humana presentes nos grandes bancos de dados públicos."
      ]
    },
    {
      "cell_type": "code",
      "source": [
        "from google.colab import drive\n",
        "drive.mount('/content/gdrive', force_remount=True)"
      ],
      "metadata": {
        "id": "f2ZqsI6hcQCV",
        "colab": {
          "base_uri": "https://localhost:8080/"
        },
        "outputId": "2544b65b-4153-4882-8f6f-27e3889995ca"
      },
      "execution_count": null,
      "outputs": [
        {
          "output_type": "stream",
          "name": "stdout",
          "text": [
            "Mounted at /content/gdrive\n"
          ]
        }
      ]
    },
    {
      "cell_type": "markdown",
      "metadata": {
        "id": "LUxZFw1uYlQo"
      },
      "source": [
        "## Lendo o Dataset"
      ]
    },
    {
      "cell_type": "code",
      "execution_count": null,
      "metadata": {
        "id": "nhCtyJV6YlQq"
      },
      "outputs": [],
      "source": [
        "import pandas as pd\n",
        "train_df = pd.read_csv(\"/content/gdrive/MyDrive/Datasets/archive/csvTrainImages.csv\")\n",
        "valid_df = pd.read_csv(\"/content/gdrive/MyDrive/Datasets/archive/csvTestImages.csv\")"
      ]
    },
    {
      "cell_type": "markdown",
      "metadata": {
        "id": "MeyBCqhEYlQq"
      },
      "source": [
        "##Explorando o Dataset"
      ]
    },
    {
      "cell_type": "code",
      "execution_count": null,
      "metadata": {
        "id": "DkZXx0mLYlQr",
        "colab": {
          "base_uri": "https://localhost:8080/",
          "height": 235
        },
        "outputId": "ed61d226-a289-4a88-9363-b66a046b668f"
      },
      "outputs": [
        {
          "output_type": "execute_result",
          "data": {
            "text/plain": [
              "   0  0.1  0.2  0.3  0.4  0.5  0.6  0.7  0.8  0.9  ...  0.486  0.487  0.488  \\\n",
              "0  0    0    0    0    0    0    0    0    0    0  ...      0      0      0   \n",
              "1  0    0    0    0    0    0    0    0    0    0  ...      0      0      0   \n",
              "2  0    0    0    0    0    0    0    0    0    0  ...      0      0      0   \n",
              "3  0    0    0    0    0    0    0    0    0    0  ...      0      0      0   \n",
              "4  0    0    0    0    0    0    0    0    0    0  ...      0      0      0   \n",
              "\n",
              "   0.489  0.490  0.491  0.492  0.493  0.494  0.495  \n",
              "0      0      0      0      0      0      0      0  \n",
              "1      0      0      0      0      0      0      0  \n",
              "2      0      0      0      0      0      0      0  \n",
              "3      0      0      0      0      0      0      0  \n",
              "4      0      0      0      0      0      0      0  \n",
              "\n",
              "[5 rows x 784 columns]"
            ],
            "text/html": [
              "\n",
              "  <div id=\"df-2c4164b5-768b-498f-89ed-8c633a41df8c\" class=\"colab-df-container\">\n",
              "    <div>\n",
              "<style scoped>\n",
              "    .dataframe tbody tr th:only-of-type {\n",
              "        vertical-align: middle;\n",
              "    }\n",
              "\n",
              "    .dataframe tbody tr th {\n",
              "        vertical-align: top;\n",
              "    }\n",
              "\n",
              "    .dataframe thead th {\n",
              "        text-align: right;\n",
              "    }\n",
              "</style>\n",
              "<table border=\"1\" class=\"dataframe\">\n",
              "  <thead>\n",
              "    <tr style=\"text-align: right;\">\n",
              "      <th></th>\n",
              "      <th>0</th>\n",
              "      <th>0.1</th>\n",
              "      <th>0.2</th>\n",
              "      <th>0.3</th>\n",
              "      <th>0.4</th>\n",
              "      <th>0.5</th>\n",
              "      <th>0.6</th>\n",
              "      <th>0.7</th>\n",
              "      <th>0.8</th>\n",
              "      <th>0.9</th>\n",
              "      <th>...</th>\n",
              "      <th>0.486</th>\n",
              "      <th>0.487</th>\n",
              "      <th>0.488</th>\n",
              "      <th>0.489</th>\n",
              "      <th>0.490</th>\n",
              "      <th>0.491</th>\n",
              "      <th>0.492</th>\n",
              "      <th>0.493</th>\n",
              "      <th>0.494</th>\n",
              "      <th>0.495</th>\n",
              "    </tr>\n",
              "  </thead>\n",
              "  <tbody>\n",
              "    <tr>\n",
              "      <th>0</th>\n",
              "      <td>0</td>\n",
              "      <td>0</td>\n",
              "      <td>0</td>\n",
              "      <td>0</td>\n",
              "      <td>0</td>\n",
              "      <td>0</td>\n",
              "      <td>0</td>\n",
              "      <td>0</td>\n",
              "      <td>0</td>\n",
              "      <td>0</td>\n",
              "      <td>...</td>\n",
              "      <td>0</td>\n",
              "      <td>0</td>\n",
              "      <td>0</td>\n",
              "      <td>0</td>\n",
              "      <td>0</td>\n",
              "      <td>0</td>\n",
              "      <td>0</td>\n",
              "      <td>0</td>\n",
              "      <td>0</td>\n",
              "      <td>0</td>\n",
              "    </tr>\n",
              "    <tr>\n",
              "      <th>1</th>\n",
              "      <td>0</td>\n",
              "      <td>0</td>\n",
              "      <td>0</td>\n",
              "      <td>0</td>\n",
              "      <td>0</td>\n",
              "      <td>0</td>\n",
              "      <td>0</td>\n",
              "      <td>0</td>\n",
              "      <td>0</td>\n",
              "      <td>0</td>\n",
              "      <td>...</td>\n",
              "      <td>0</td>\n",
              "      <td>0</td>\n",
              "      <td>0</td>\n",
              "      <td>0</td>\n",
              "      <td>0</td>\n",
              "      <td>0</td>\n",
              "      <td>0</td>\n",
              "      <td>0</td>\n",
              "      <td>0</td>\n",
              "      <td>0</td>\n",
              "    </tr>\n",
              "    <tr>\n",
              "      <th>2</th>\n",
              "      <td>0</td>\n",
              "      <td>0</td>\n",
              "      <td>0</td>\n",
              "      <td>0</td>\n",
              "      <td>0</td>\n",
              "      <td>0</td>\n",
              "      <td>0</td>\n",
              "      <td>0</td>\n",
              "      <td>0</td>\n",
              "      <td>0</td>\n",
              "      <td>...</td>\n",
              "      <td>0</td>\n",
              "      <td>0</td>\n",
              "      <td>0</td>\n",
              "      <td>0</td>\n",
              "      <td>0</td>\n",
              "      <td>0</td>\n",
              "      <td>0</td>\n",
              "      <td>0</td>\n",
              "      <td>0</td>\n",
              "      <td>0</td>\n",
              "    </tr>\n",
              "    <tr>\n",
              "      <th>3</th>\n",
              "      <td>0</td>\n",
              "      <td>0</td>\n",
              "      <td>0</td>\n",
              "      <td>0</td>\n",
              "      <td>0</td>\n",
              "      <td>0</td>\n",
              "      <td>0</td>\n",
              "      <td>0</td>\n",
              "      <td>0</td>\n",
              "      <td>0</td>\n",
              "      <td>...</td>\n",
              "      <td>0</td>\n",
              "      <td>0</td>\n",
              "      <td>0</td>\n",
              "      <td>0</td>\n",
              "      <td>0</td>\n",
              "      <td>0</td>\n",
              "      <td>0</td>\n",
              "      <td>0</td>\n",
              "      <td>0</td>\n",
              "      <td>0</td>\n",
              "    </tr>\n",
              "    <tr>\n",
              "      <th>4</th>\n",
              "      <td>0</td>\n",
              "      <td>0</td>\n",
              "      <td>0</td>\n",
              "      <td>0</td>\n",
              "      <td>0</td>\n",
              "      <td>0</td>\n",
              "      <td>0</td>\n",
              "      <td>0</td>\n",
              "      <td>0</td>\n",
              "      <td>0</td>\n",
              "      <td>...</td>\n",
              "      <td>0</td>\n",
              "      <td>0</td>\n",
              "      <td>0</td>\n",
              "      <td>0</td>\n",
              "      <td>0</td>\n",
              "      <td>0</td>\n",
              "      <td>0</td>\n",
              "      <td>0</td>\n",
              "      <td>0</td>\n",
              "      <td>0</td>\n",
              "    </tr>\n",
              "  </tbody>\n",
              "</table>\n",
              "<p>5 rows × 784 columns</p>\n",
              "</div>\n",
              "    <div class=\"colab-df-buttons\">\n",
              "\n",
              "  <div class=\"colab-df-container\">\n",
              "    <button class=\"colab-df-convert\" onclick=\"convertToInteractive('df-2c4164b5-768b-498f-89ed-8c633a41df8c')\"\n",
              "            title=\"Convert this dataframe to an interactive table.\"\n",
              "            style=\"display:none;\">\n",
              "\n",
              "  <svg xmlns=\"http://www.w3.org/2000/svg\" height=\"24px\" viewBox=\"0 -960 960 960\">\n",
              "    <path d=\"M120-120v-720h720v720H120Zm60-500h600v-160H180v160Zm220 220h160v-160H400v160Zm0 220h160v-160H400v160ZM180-400h160v-160H180v160Zm440 0h160v-160H620v160ZM180-180h160v-160H180v160Zm440 0h160v-160H620v160Z\"/>\n",
              "  </svg>\n",
              "    </button>\n",
              "\n",
              "  <style>\n",
              "    .colab-df-container {\n",
              "      display:flex;\n",
              "      gap: 12px;\n",
              "    }\n",
              "\n",
              "    .colab-df-convert {\n",
              "      background-color: #E8F0FE;\n",
              "      border: none;\n",
              "      border-radius: 50%;\n",
              "      cursor: pointer;\n",
              "      display: none;\n",
              "      fill: #1967D2;\n",
              "      height: 32px;\n",
              "      padding: 0 0 0 0;\n",
              "      width: 32px;\n",
              "    }\n",
              "\n",
              "    .colab-df-convert:hover {\n",
              "      background-color: #E2EBFA;\n",
              "      box-shadow: 0px 1px 2px rgba(60, 64, 67, 0.3), 0px 1px 3px 1px rgba(60, 64, 67, 0.15);\n",
              "      fill: #174EA6;\n",
              "    }\n",
              "\n",
              "    .colab-df-buttons div {\n",
              "      margin-bottom: 4px;\n",
              "    }\n",
              "\n",
              "    [theme=dark] .colab-df-convert {\n",
              "      background-color: #3B4455;\n",
              "      fill: #D2E3FC;\n",
              "    }\n",
              "\n",
              "    [theme=dark] .colab-df-convert:hover {\n",
              "      background-color: #434B5C;\n",
              "      box-shadow: 0px 1px 3px 1px rgba(0, 0, 0, 0.15);\n",
              "      filter: drop-shadow(0px 1px 2px rgba(0, 0, 0, 0.3));\n",
              "      fill: #FFFFFF;\n",
              "    }\n",
              "  </style>\n",
              "\n",
              "    <script>\n",
              "      const buttonEl =\n",
              "        document.querySelector('#df-2c4164b5-768b-498f-89ed-8c633a41df8c button.colab-df-convert');\n",
              "      buttonEl.style.display =\n",
              "        google.colab.kernel.accessAllowed ? 'block' : 'none';\n",
              "\n",
              "      async function convertToInteractive(key) {\n",
              "        const element = document.querySelector('#df-2c4164b5-768b-498f-89ed-8c633a41df8c');\n",
              "        const dataTable =\n",
              "          await google.colab.kernel.invokeFunction('convertToInteractive',\n",
              "                                                    [key], {});\n",
              "        if (!dataTable) return;\n",
              "\n",
              "        const docLinkHtml = 'Like what you see? Visit the ' +\n",
              "          '<a target=\"_blank\" href=https://colab.research.google.com/notebooks/data_table.ipynb>data table notebook</a>'\n",
              "          + ' to learn more about interactive tables.';\n",
              "        element.innerHTML = '';\n",
              "        dataTable['output_type'] = 'display_data';\n",
              "        await google.colab.output.renderOutput(dataTable, element);\n",
              "        const docLink = document.createElement('div');\n",
              "        docLink.innerHTML = docLinkHtml;\n",
              "        element.appendChild(docLink);\n",
              "      }\n",
              "    </script>\n",
              "  </div>\n",
              "\n",
              "\n",
              "<div id=\"df-a0631438-a7d4-4002-a5d4-133076d36b89\">\n",
              "  <button class=\"colab-df-quickchart\" onclick=\"quickchart('df-a0631438-a7d4-4002-a5d4-133076d36b89')\"\n",
              "            title=\"Suggest charts\"\n",
              "            style=\"display:none;\">\n",
              "\n",
              "<svg xmlns=\"http://www.w3.org/2000/svg\" height=\"24px\"viewBox=\"0 0 24 24\"\n",
              "     width=\"24px\">\n",
              "    <g>\n",
              "        <path d=\"M19 3H5c-1.1 0-2 .9-2 2v14c0 1.1.9 2 2 2h14c1.1 0 2-.9 2-2V5c0-1.1-.9-2-2-2zM9 17H7v-7h2v7zm4 0h-2V7h2v10zm4 0h-2v-4h2v4z\"/>\n",
              "    </g>\n",
              "</svg>\n",
              "  </button>\n",
              "\n",
              "<style>\n",
              "  .colab-df-quickchart {\n",
              "      --bg-color: #E8F0FE;\n",
              "      --fill-color: #1967D2;\n",
              "      --hover-bg-color: #E2EBFA;\n",
              "      --hover-fill-color: #174EA6;\n",
              "      --disabled-fill-color: #AAA;\n",
              "      --disabled-bg-color: #DDD;\n",
              "  }\n",
              "\n",
              "  [theme=dark] .colab-df-quickchart {\n",
              "      --bg-color: #3B4455;\n",
              "      --fill-color: #D2E3FC;\n",
              "      --hover-bg-color: #434B5C;\n",
              "      --hover-fill-color: #FFFFFF;\n",
              "      --disabled-bg-color: #3B4455;\n",
              "      --disabled-fill-color: #666;\n",
              "  }\n",
              "\n",
              "  .colab-df-quickchart {\n",
              "    background-color: var(--bg-color);\n",
              "    border: none;\n",
              "    border-radius: 50%;\n",
              "    cursor: pointer;\n",
              "    display: none;\n",
              "    fill: var(--fill-color);\n",
              "    height: 32px;\n",
              "    padding: 0;\n",
              "    width: 32px;\n",
              "  }\n",
              "\n",
              "  .colab-df-quickchart:hover {\n",
              "    background-color: var(--hover-bg-color);\n",
              "    box-shadow: 0 1px 2px rgba(60, 64, 67, 0.3), 0 1px 3px 1px rgba(60, 64, 67, 0.15);\n",
              "    fill: var(--button-hover-fill-color);\n",
              "  }\n",
              "\n",
              "  .colab-df-quickchart-complete:disabled,\n",
              "  .colab-df-quickchart-complete:disabled:hover {\n",
              "    background-color: var(--disabled-bg-color);\n",
              "    fill: var(--disabled-fill-color);\n",
              "    box-shadow: none;\n",
              "  }\n",
              "\n",
              "  .colab-df-spinner {\n",
              "    border: 2px solid var(--fill-color);\n",
              "    border-color: transparent;\n",
              "    border-bottom-color: var(--fill-color);\n",
              "    animation:\n",
              "      spin 1s steps(1) infinite;\n",
              "  }\n",
              "\n",
              "  @keyframes spin {\n",
              "    0% {\n",
              "      border-color: transparent;\n",
              "      border-bottom-color: var(--fill-color);\n",
              "      border-left-color: var(--fill-color);\n",
              "    }\n",
              "    20% {\n",
              "      border-color: transparent;\n",
              "      border-left-color: var(--fill-color);\n",
              "      border-top-color: var(--fill-color);\n",
              "    }\n",
              "    30% {\n",
              "      border-color: transparent;\n",
              "      border-left-color: var(--fill-color);\n",
              "      border-top-color: var(--fill-color);\n",
              "      border-right-color: var(--fill-color);\n",
              "    }\n",
              "    40% {\n",
              "      border-color: transparent;\n",
              "      border-right-color: var(--fill-color);\n",
              "      border-top-color: var(--fill-color);\n",
              "    }\n",
              "    60% {\n",
              "      border-color: transparent;\n",
              "      border-right-color: var(--fill-color);\n",
              "    }\n",
              "    80% {\n",
              "      border-color: transparent;\n",
              "      border-right-color: var(--fill-color);\n",
              "      border-bottom-color: var(--fill-color);\n",
              "    }\n",
              "    90% {\n",
              "      border-color: transparent;\n",
              "      border-bottom-color: var(--fill-color);\n",
              "    }\n",
              "  }\n",
              "</style>\n",
              "\n",
              "  <script>\n",
              "    async function quickchart(key) {\n",
              "      const quickchartButtonEl =\n",
              "        document.querySelector('#' + key + ' button');\n",
              "      quickchartButtonEl.disabled = true;  // To prevent multiple clicks.\n",
              "      quickchartButtonEl.classList.add('colab-df-spinner');\n",
              "      try {\n",
              "        const charts = await google.colab.kernel.invokeFunction(\n",
              "            'suggestCharts', [key], {});\n",
              "      } catch (error) {\n",
              "        console.error('Error during call to suggestCharts:', error);\n",
              "      }\n",
              "      quickchartButtonEl.classList.remove('colab-df-spinner');\n",
              "      quickchartButtonEl.classList.add('colab-df-quickchart-complete');\n",
              "    }\n",
              "    (() => {\n",
              "      let quickchartButtonEl =\n",
              "        document.querySelector('#df-a0631438-a7d4-4002-a5d4-133076d36b89 button');\n",
              "      quickchartButtonEl.style.display =\n",
              "        google.colab.kernel.accessAllowed ? 'block' : 'none';\n",
              "    })();\n",
              "  </script>\n",
              "</div>\n",
              "    </div>\n",
              "  </div>\n"
            ]
          },
          "metadata": {},
          "execution_count": 3
        }
      ],
      "source": [
        "train_df.head()"
      ]
    },
    {
      "cell_type": "markdown",
      "metadata": {
        "id": "EoYmdMPNYlQr"
      },
      "source": [
        "## Extraindo dados das labels"
      ]
    },
    {
      "cell_type": "code",
      "execution_count": null,
      "metadata": {
        "id": "UcKvjSXbYlQs"
      },
      "outputs": [],
      "source": [
        "y_train = pd.read_csv(\"/content/gdrive/MyDrive/Datasets/archive/csvTrainLabel.csv\")\n",
        "y_valid = pd.read_csv(\"/content/gdrive/MyDrive/Datasets/archive/csvTestLabel.csv\")"
      ]
    },
    {
      "cell_type": "code",
      "execution_count": null,
      "metadata": {
        "id": "wXZAl5FNYlQt"
      },
      "outputs": [],
      "source": [
        "x_train = train_df.values\n",
        "x_valid = valid_df.values"
      ]
    },
    {
      "cell_type": "markdown",
      "metadata": {
        "id": "rGulv-cTYlQv"
      },
      "source": [
        "##Visualizando os Dados"
      ]
    },
    {
      "cell_type": "code",
      "execution_count": null,
      "metadata": {
        "id": "arNnbKL9YlQv",
        "colab": {
          "base_uri": "https://localhost:8080/",
          "height": 133
        },
        "outputId": "aa363ce6-7d36-4fab-ff4a-e7188cdd12b6"
      },
      "outputs": [
        {
          "output_type": "display_data",
          "data": {
            "text/plain": [
              "<Figure size 4000x4000 with 10 Axes>"
            ],
            "image/png": "[encoded data removed]"
          },
          "metadata": {}
        }
      ],
      "source": [
        "import matplotlib.pyplot as plt\n",
        "plt.figure(figsize=(40,40))\n",
        "\n",
        "num_images = 10\n",
        "for i in range(num_images):\n",
        "    row = x_train[i]\n",
        "\n",
        "    image = row.reshape(28,28)\n",
        "    plt.subplot(1, num_images, i+1)\n",
        "    plt.axis('off')\n",
        "    plt.imshow(image, cmap='gray')\n",
        "plt.show()"
      ]
    },
    {
      "cell_type": "markdown",
      "metadata": {
        "id": "2aZRT8wNYlQw"
      },
      "source": [
        "## Normalização dos Dados"
      ]
    },
    {
      "cell_type": "markdown",
      "metadata": {
        "id": "VPwbi8vLYlQw"
      },
      "source": [
        "É possível através das funções min() e max() encontrar os maiores valores dos pixels de cada imagem, onde o 0 seria o pixel mais escuro e o 255 o pixel mais claro."
      ]
    },
    {
      "cell_type": "code",
      "execution_count": null,
      "metadata": {
        "id": "X9Y62mNwYlQw",
        "colab": {
          "base_uri": "https://localhost:8080/"
        },
        "outputId": "b4bcef21-2500-4735-cabf-1fc0fe782d8a"
      },
      "outputs": [
        {
          "output_type": "execute_result",
          "data": {
            "text/plain": [
              "0"
            ]
          },
          "metadata": {},
          "execution_count": 7
        }
      ],
      "source": [
        "x_train.min()"
      ]
    },
    {
      "cell_type": "code",
      "execution_count": null,
      "metadata": {
        "id": "V9dVC9iKYlQw",
        "colab": {
          "base_uri": "https://localhost:8080/"
        },
        "outputId": "fe867557-8050-4c61-ea91-be1fd209935b"
      },
      "outputs": [
        {
          "output_type": "execute_result",
          "data": {
            "text/plain": [
              "255"
            ]
          },
          "metadata": {},
          "execution_count": 8
        }
      ],
      "source": [
        "x_train.max()"
      ]
    },
    {
      "cell_type": "markdown",
      "metadata": {
        "id": "DGqslQKMYlQx"
      },
      "source": [
        "## Categorização das labels"
      ]
    },
    {
      "cell_type": "code",
      "execution_count": null,
      "metadata": {
        "id": "yFvBE3ZwYlQx"
      },
      "outputs": [],
      "source": [
        "import tensorflow.keras as keras\n",
        "num_classes = 10"
      ]
    },
    {
      "cell_type": "code",
      "execution_count": null,
      "metadata": {
        "id": "pwFIxevbYlQw",
        "colab": {
          "base_uri": "https://localhost:8080/",
          "height": 443
        },
        "outputId": "9e5cc9f4-7a2d-4308-b2e7-b2e377ccfe49"
      },
      "outputs": [
        {
          "output_type": "execute_result",
          "data": {
            "text/plain": [
              "       0    1    2         3         4         5         6          7    \\\n",
              "0      0.0  0.0  0.0 -0.004083 -0.010411 -0.018426 -0.035815  -0.062133   \n",
              "1      0.0  0.0  0.0 -0.004083 -0.010411 -0.018426 -0.035815  -0.062133   \n",
              "2      0.0  0.0  0.0 -0.004083 -0.010411 -0.018426 -0.035815  -0.062133   \n",
              "3      0.0  0.0  0.0 -0.004083 -0.010411 -0.018426 -0.035815  -0.062133   \n",
              "4      0.0  0.0  0.0 -0.004083 -0.010411 -0.018426 -0.035815  -0.062133   \n",
              "...    ...  ...  ...       ...       ...       ...       ...        ...   \n",
              "59994  0.0  0.0  0.0 -0.004083 -0.010411 -0.018426 -0.035815  -0.062133   \n",
              "59995  0.0  0.0  0.0 -0.004083 -0.010411 -0.018426 -0.035815  15.577816   \n",
              "59996  0.0  0.0  0.0 -0.004083 -0.010411 -0.018426 -0.035815  -0.062133   \n",
              "59997  0.0  0.0  0.0 -0.004083 -0.010411 -0.018426 -0.035815  -0.062133   \n",
              "59998  0.0  0.0  0.0 -0.004083 -0.010411 -0.018426 -0.035815  -0.062133   \n",
              "\n",
              "             8         9    ...       774       775       776       777  \\\n",
              "0      -0.077294 -0.075695  ... -0.012672 -0.016274 -0.018938 -0.013494   \n",
              "1      -0.077294 -0.075695  ... -0.012672 -0.016274 -0.018938 -0.013494   \n",
              "2      -0.077294 -0.075695  ... -0.012672 -0.016274 -0.018938 -0.013494   \n",
              "3      -0.077294 -0.075695  ... -0.012672 -0.016274 -0.018938 -0.013494   \n",
              "4      -0.077294 -0.075695  ... -0.012672 -0.016274 -0.018938 -0.013494   \n",
              "...          ...       ...  ...       ...       ...       ...       ...   \n",
              "59994  -0.077294 -0.075695  ... -0.012672 -0.016274 -0.018938 -0.013494   \n",
              "59995  10.447926  7.482539  ... -0.012672 -0.016274 -0.018938 -0.013494   \n",
              "59996  -0.077294 -0.075695  ... -0.012672 -0.016274 -0.018938 -0.013494   \n",
              "59997  -0.077294 -0.075695  ... -0.012672 -0.016274 -0.018938 -0.013494   \n",
              "59998  -0.077294 -0.075695  ... -0.012672 -0.016274 -0.018938 -0.013494   \n",
              "\n",
              "            778       779  780  781  782  783  \n",
              "0     -0.009332 -0.006334  0.0  0.0  0.0  0.0  \n",
              "1     -0.009332 -0.006334  0.0  0.0  0.0  0.0  \n",
              "2     -0.009332 -0.006334  0.0  0.0  0.0  0.0  \n",
              "3     -0.009332 -0.006334  0.0  0.0  0.0  0.0  \n",
              "4     -0.009332 -0.006334  0.0  0.0  0.0  0.0  \n",
              "...         ...       ...  ...  ...  ...  ...  \n",
              "59994 -0.009332 -0.006334  0.0  0.0  0.0  0.0  \n",
              "59995 -0.009332 -0.006334  0.0  0.0  0.0  0.0  \n",
              "59996 -0.009332 -0.006334  0.0  0.0  0.0  0.0  \n",
              "59997 -0.009332 -0.006334  0.0  0.0  0.0  0.0  \n",
              "59998 -0.009332 -0.006334  0.0  0.0  0.0  0.0  \n",
              "\n",
              "[59999 rows x 784 columns]"
            ],
            "text/html": [
              "\n",
              "  <div id=\"df-2d6b2d31-66e4-4d43-a3a8-8021d5290d23\" class=\"colab-df-container\">\n",
              "    <div>\n",
              "<style scoped>\n",
              "    .dataframe tbody tr th:only-of-type {\n",
              "        vertical-align: middle;\n",
              "    }\n",
              "\n",
              "    .dataframe tbody tr th {\n",
              "        vertical-align: top;\n",
              "    }\n",
              "\n",
              "    .dataframe thead th {\n",
              "        text-align: right;\n",
              "    }\n",
              "</style>\n",
              "<table border=\"1\" class=\"dataframe\">\n",
              "  <thead>\n",
              "    <tr style=\"text-align: right;\">\n",
              "      <th></th>\n",
              "      <th>0</th>\n",
              "      <th>1</th>\n",
              "      <th>2</th>\n",
              "      <th>3</th>\n",
              "      <th>4</th>\n",
              "      <th>5</th>\n",
              "      <th>6</th>\n",
              "      <th>7</th>\n",
              "      <th>8</th>\n",
              "      <th>9</th>\n",
              "      <th>...</th>\n",
              "      <th>774</th>\n",
              "      <th>775</th>\n",
              "      <th>776</th>\n",
              "      <th>777</th>\n",
              "      <th>778</th>\n",
              "      <th>779</th>\n",
              "      <th>780</th>\n",
              "      <th>781</th>\n",
              "      <th>782</th>\n",
              "      <th>783</th>\n",
              "    </tr>\n",
              "  </thead>\n",
              "  <tbody>\n",
              "    <tr>\n",
              "      <th>0</th>\n",
              "      <td>0.0</td>\n",
              "      <td>0.0</td>\n",
              "      <td>0.0</td>\n",
              "      <td>-0.004083</td>\n",
              "      <td>-0.010411</td>\n",
              "      <td>-0.018426</td>\n",
              "      <td>-0.035815</td>\n",
              "      <td>-0.062133</td>\n",
              "      <td>-0.077294</td>\n",
              "      <td>-0.075695</td>\n",
              "      <td>...</td>\n",
              "      <td>-0.012672</td>\n",
              "      <td>-0.016274</td>\n",
              "      <td>-0.018938</td>\n",
              "      <td>-0.013494</td>\n",
              "      <td>-0.009332</td>\n",
              "      <td>-0.006334</td>\n",
              "      <td>0.0</td>\n",
              "      <td>0.0</td>\n",
              "      <td>0.0</td>\n",
              "      <td>0.0</td>\n",
              "    </tr>\n",
              "    <tr>\n",
              "      <th>1</th>\n",
              "      <td>0.0</td>\n",
              "      <td>0.0</td>\n",
              "      <td>0.0</td>\n",
              "      <td>-0.004083</td>\n",
              "      <td>-0.010411</td>\n",
              "      <td>-0.018426</td>\n",
              "      <td>-0.035815</td>\n",
              "      <td>-0.062133</td>\n",
              "      <td>-0.077294</td>\n",
              "      <td>-0.075695</td>\n",
              "      <td>...</td>\n",
              "      <td>-0.012672</td>\n",
              "      <td>-0.016274</td>\n",
              "      <td>-0.018938</td>\n",
              "      <td>-0.013494</td>\n",
              "      <td>-0.009332</td>\n",
              "      <td>-0.006334</td>\n",
              "      <td>0.0</td>\n",
              "      <td>0.0</td>\n",
              "      <td>0.0</td>\n",
              "      <td>0.0</td>\n",
              "    </tr>\n",
              "    <tr>\n",
              "      <th>2</th>\n",
              "      <td>0.0</td>\n",
              "      <td>0.0</td>\n",
              "      <td>0.0</td>\n",
              "      <td>-0.004083</td>\n",
              "      <td>-0.010411</td>\n",
              "      <td>-0.018426</td>\n",
              "      <td>-0.035815</td>\n",
              "      <td>-0.062133</td>\n",
              "      <td>-0.077294</td>\n",
              "      <td>-0.075695</td>\n",
              "      <td>...</td>\n",
              "      <td>-0.012672</td>\n",
              "      <td>-0.016274</td>\n",
              "      <td>-0.018938</td>\n",
              "      <td>-0.013494</td>\n",
              "      <td>-0.009332</td>\n",
              "      <td>-0.006334</td>\n",
              "      <td>0.0</td>\n",
              "      <td>0.0</td>\n",
              "      <td>0.0</td>\n",
              "      <td>0.0</td>\n",
              "    </tr>\n",
              "    <tr>\n",
              "      <th>3</th>\n",
              "      <td>0.0</td>\n",
              "      <td>0.0</td>\n",
              "      <td>0.0</td>\n",
              "      <td>-0.004083</td>\n",
              "      <td>-0.010411</td>\n",
              "      <td>-0.018426</td>\n",
              "      <td>-0.035815</td>\n",
              "      <td>-0.062133</td>\n",
              "      <td>-0.077294</td>\n",
              "      <td>-0.075695</td>\n",
              "      <td>...</td>\n",
              "      <td>-0.012672</td>\n",
              "      <td>-0.016274</td>\n",
              "      <td>-0.018938</td>\n",
              "      <td>-0.013494</td>\n",
              "      <td>-0.009332</td>\n",
              "      <td>-0.006334</td>\n",
              "      <td>0.0</td>\n",
              "      <td>0.0</td>\n",
              "      <td>0.0</td>\n",
              "      <td>0.0</td>\n",
              "    </tr>\n",
              "    <tr>\n",
              "      <th>4</th>\n",
              "      <td>0.0</td>\n",
              "      <td>0.0</td>\n",
              "      <td>0.0</td>\n",
              "      <td>-0.004083</td>\n",
              "      <td>-0.010411</td>\n",
              "      <td>-0.018426</td>\n",
              "      <td>-0.035815</td>\n",
              "      <td>-0.062133</td>\n",
              "      <td>-0.077294</td>\n",
              "      <td>-0.075695</td>\n",
              "      <td>...</td>\n",
              "      <td>-0.012672</td>\n",
              "      <td>-0.016274</td>\n",
              "      <td>-0.018938</td>\n",
              "      <td>-0.013494</td>\n",
              "      <td>-0.009332</td>\n",
              "      <td>-0.006334</td>\n",
              "      <td>0.0</td>\n",
              "      <td>0.0</td>\n",
              "      <td>0.0</td>\n",
              "      <td>0.0</td>\n",
              "    </tr>\n",
              "    <tr>\n",
              "      <th>...</th>\n",
              "      <td>...</td>\n",
              "      <td>...</td>\n",
              "      <td>...</td>\n",
              "      <td>...</td>\n",
              "      <td>...</td>\n",
              "      <td>...</td>\n",
              "      <td>...</td>\n",
              "      <td>...</td>\n",
              "      <td>...</td>\n",
              "      <td>...</td>\n",
              "      <td>...</td>\n",
              "      <td>...</td>\n",
              "      <td>...</td>\n",
              "      <td>...</td>\n",
              "      <td>...</td>\n",
              "      <td>...</td>\n",
              "      <td>...</td>\n",
              "      <td>...</td>\n",
              "      <td>...</td>\n",
              "      <td>...</td>\n",
              "      <td>...</td>\n",
              "    </tr>\n",
              "    <tr>\n",
              "      <th>59994</th>\n",
              "      <td>0.0</td>\n",
              "      <td>0.0</td>\n",
              "      <td>0.0</td>\n",
              "      <td>-0.004083</td>\n",
              "      <td>-0.010411</td>\n",
              "      <td>-0.018426</td>\n",
              "      <td>-0.035815</td>\n",
              "      <td>-0.062133</td>\n",
              "      <td>-0.077294</td>\n",
              "      <td>-0.075695</td>\n",
              "      <td>...</td>\n",
              "      <td>-0.012672</td>\n",
              "      <td>-0.016274</td>\n",
              "      <td>-0.018938</td>\n",
              "      <td>-0.013494</td>\n",
              "      <td>-0.009332</td>\n",
              "      <td>-0.006334</td>\n",
              "      <td>0.0</td>\n",
              "      <td>0.0</td>\n",
              "      <td>0.0</td>\n",
              "      <td>0.0</td>\n",
              "    </tr>\n",
              "    <tr>\n",
              "      <th>59995</th>\n",
              "      <td>0.0</td>\n",
              "      <td>0.0</td>\n",
              "      <td>0.0</td>\n",
              "      <td>-0.004083</td>\n",
              "      <td>-0.010411</td>\n",
              "      <td>-0.018426</td>\n",
              "      <td>-0.035815</td>\n",
              "      <td>15.577816</td>\n",
              "      <td>10.447926</td>\n",
              "      <td>7.482539</td>\n",
              "      <td>...</td>\n",
              "      <td>-0.012672</td>\n",
              "      <td>-0.016274</td>\n",
              "      <td>-0.018938</td>\n",
              "      <td>-0.013494</td>\n",
              "      <td>-0.009332</td>\n",
              "      <td>-0.006334</td>\n",
              "      <td>0.0</td>\n",
              "      <td>0.0</td>\n",
              "      <td>0.0</td>\n",
              "      <td>0.0</td>\n",
              "    </tr>\n",
              "    <tr>\n",
              "      <th>59996</th>\n",
              "      <td>0.0</td>\n",
              "      <td>0.0</td>\n",
              "      <td>0.0</td>\n",
              "      <td>-0.004083</td>\n",
              "      <td>-0.010411</td>\n",
              "      <td>-0.018426</td>\n",
              "      <td>-0.035815</td>\n",
              "      <td>-0.062133</td>\n",
              "      <td>-0.077294</td>\n",
              "      <td>-0.075695</td>\n",
              "      <td>...</td>\n",
              "      <td>-0.012672</td>\n",
              "      <td>-0.016274</td>\n",
              "      <td>-0.018938</td>\n",
              "      <td>-0.013494</td>\n",
              "      <td>-0.009332</td>\n",
              "      <td>-0.006334</td>\n",
              "      <td>0.0</td>\n",
              "      <td>0.0</td>\n",
              "      <td>0.0</td>\n",
              "      <td>0.0</td>\n",
              "    </tr>\n",
              "    <tr>\n",
              "      <th>59997</th>\n",
              "      <td>0.0</td>\n",
              "      <td>0.0</td>\n",
              "      <td>0.0</td>\n",
              "      <td>-0.004083</td>\n",
              "      <td>-0.010411</td>\n",
              "      <td>-0.018426</td>\n",
              "      <td>-0.035815</td>\n",
              "      <td>-0.062133</td>\n",
              "      <td>-0.077294</td>\n",
              "      <td>-0.075695</td>\n",
              "      <td>...</td>\n",
              "      <td>-0.012672</td>\n",
              "      <td>-0.016274</td>\n",
              "      <td>-0.018938</td>\n",
              "      <td>-0.013494</td>\n",
              "      <td>-0.009332</td>\n",
              "      <td>-0.006334</td>\n",
              "      <td>0.0</td>\n",
              "      <td>0.0</td>\n",
              "      <td>0.0</td>\n",
              "      <td>0.0</td>\n",
              "    </tr>\n",
              "    <tr>\n",
              "      <th>59998</th>\n",
              "      <td>0.0</td>\n",
              "      <td>0.0</td>\n",
              "      <td>0.0</td>\n",
              "      <td>-0.004083</td>\n",
              "      <td>-0.010411</td>\n",
              "      <td>-0.018426</td>\n",
              "      <td>-0.035815</td>\n",
              "      <td>-0.062133</td>\n",
              "      <td>-0.077294</td>\n",
              "      <td>-0.075695</td>\n",
              "      <td>...</td>\n",
              "      <td>-0.012672</td>\n",
              "      <td>-0.016274</td>\n",
              "      <td>-0.018938</td>\n",
              "      <td>-0.013494</td>\n",
              "      <td>-0.009332</td>\n",
              "      <td>-0.006334</td>\n",
              "      <td>0.0</td>\n",
              "      <td>0.0</td>\n",
              "      <td>0.0</td>\n",
              "      <td>0.0</td>\n",
              "    </tr>\n",
              "  </tbody>\n",
              "</table>\n",
              "<p>59999 rows × 784 columns</p>\n",
              "</div>\n",
              "    <div class=\"colab-df-buttons\">\n",
              "\n",
              "  <div class=\"colab-df-container\">\n",
              "    <button class=\"colab-df-convert\" onclick=\"convertToInteractive('df-2d6b2d31-66e4-4d43-a3a8-8021d5290d23')\"\n",
              "            title=\"Convert this dataframe to an interactive table.\"\n",
              "            style=\"display:none;\">\n",
              "\n",
              "  <svg xmlns=\"http://www.w3.org/2000/svg\" height=\"24px\" viewBox=\"0 -960 960 960\">\n",
              "    <path d=\"M120-120v-720h720v720H120Zm60-500h600v-160H180v160Zm220 220h160v-160H400v160Zm0 220h160v-160H400v160ZM180-400h160v-160H180v160Zm440 0h160v-160H620v160ZM180-180h160v-160H180v160Zm440 0h160v-160H620v160Z\"/>\n",
              "  </svg>\n",
              "    </button>\n",
              "\n",
              "  <style>\n",
              "    .colab-df-container {\n",
              "      display:flex;\n",
              "      gap: 12px;\n",
              "    }\n",
              "\n",
              "    .colab-df-convert {\n",
              "      background-color: #E8F0FE;\n",
              "      border: none;\n",
              "      border-radius: 50%;\n",
              "      cursor: pointer;\n",
              "      display: none;\n",
              "      fill: #1967D2;\n",
              "      height: 32px;\n",
              "      padding: 0 0 0 0;\n",
              "      width: 32px;\n",
              "    }\n",
              "\n",
              "    .colab-df-convert:hover {\n",
              "      background-color: #E2EBFA;\n",
              "      box-shadow: 0px 1px 2px rgba(60, 64, 67, 0.3), 0px 1px 3px 1px rgba(60, 64, 67, 0.15);\n",
              "      fill: #174EA6;\n",
              "    }\n",
              "\n",
              "    .colab-df-buttons div {\n",
              "      margin-bottom: 4px;\n",
              "    }\n",
              "\n",
              "    [theme=dark] .colab-df-convert {\n",
              "      background-color: #3B4455;\n",
              "      fill: #D2E3FC;\n",
              "    }\n",
              "\n",
              "    [theme=dark] .colab-df-convert:hover {\n",
              "      background-color: #434B5C;\n",
              "      box-shadow: 0px 1px 3px 1px rgba(0, 0, 0, 0.15);\n",
              "      filter: drop-shadow(0px 1px 2px rgba(0, 0, 0, 0.3));\n",
              "      fill: #FFFFFF;\n",
              "    }\n",
              "  </style>\n",
              "\n",
              "    <script>\n",
              "      const buttonEl =\n",
              "        document.querySelector('#df-2d6b2d31-66e4-4d43-a3a8-8021d5290d23 button.colab-df-convert');\n",
              "      buttonEl.style.display =\n",
              "        google.colab.kernel.accessAllowed ? 'block' : 'none';\n",
              "\n",
              "      async function convertToInteractive(key) {\n",
              "        const element = document.querySelector('#df-2d6b2d31-66e4-4d43-a3a8-8021d5290d23');\n",
              "        const dataTable =\n",
              "          await google.colab.kernel.invokeFunction('convertToInteractive',\n",
              "                                                    [key], {});\n",
              "        if (!dataTable) return;\n",
              "\n",
              "        const docLinkHtml = 'Like what you see? Visit the ' +\n",
              "          '<a target=\"_blank\" href=https://colab.research.google.com/notebooks/data_table.ipynb>data table notebook</a>'\n",
              "          + ' to learn more about interactive tables.';\n",
              "        element.innerHTML = '';\n",
              "        dataTable['output_type'] = 'display_data';\n",
              "        await google.colab.output.renderOutput(dataTable, element);\n",
              "        const docLink = document.createElement('div');\n",
              "        docLink.innerHTML = docLinkHtml;\n",
              "        element.appendChild(docLink);\n",
              "      }\n",
              "    </script>\n",
              "  </div>\n",
              "\n",
              "\n",
              "<div id=\"df-31943114-d73b-486d-a135-30ba5a34685d\">\n",
              "  <button class=\"colab-df-quickchart\" onclick=\"quickchart('df-31943114-d73b-486d-a135-30ba5a34685d')\"\n",
              "            title=\"Suggest charts\"\n",
              "            style=\"display:none;\">\n",
              "\n",
              "<svg xmlns=\"http://www.w3.org/2000/svg\" height=\"24px\"viewBox=\"0 0 24 24\"\n",
              "     width=\"24px\">\n",
              "    <g>\n",
              "        <path d=\"M19 3H5c-1.1 0-2 .9-2 2v14c0 1.1.9 2 2 2h14c1.1 0 2-.9 2-2V5c0-1.1-.9-2-2-2zM9 17H7v-7h2v7zm4 0h-2V7h2v10zm4 0h-2v-4h2v4z\"/>\n",
              "    </g>\n",
              "</svg>\n",
              "  </button>\n",
              "\n",
              "<style>\n",
              "  .colab-df-quickchart {\n",
              "      --bg-color: #E8F0FE;\n",
              "      --fill-color: #1967D2;\n",
              "      --hover-bg-color: #E2EBFA;\n",
              "      --hover-fill-color: #174EA6;\n",
              "      --disabled-fill-color: #AAA;\n",
              "      --disabled-bg-color: #DDD;\n",
              "  }\n",
              "\n",
              "  [theme=dark] .colab-df-quickchart {\n",
              "      --bg-color: #3B4455;\n",
              "      --fill-color: #D2E3FC;\n",
              "      --hover-bg-color: #434B5C;\n",
              "      --hover-fill-color: #FFFFFF;\n",
              "      --disabled-bg-color: #3B4455;\n",
              "      --disabled-fill-color: #666;\n",
              "  }\n",
              "\n",
              "  .colab-df-quickchart {\n",
              "    background-color: var(--bg-color);\n",
              "    border: none;\n",
              "    border-radius: 50%;\n",
              "    cursor: pointer;\n",
              "    display: none;\n",
              "    fill: var(--fill-color);\n",
              "    height: 32px;\n",
              "    padding: 0;\n",
              "    width: 32px;\n",
              "  }\n",
              "\n",
              "  .colab-df-quickchart:hover {\n",
              "    background-color: var(--hover-bg-color);\n",
              "    box-shadow: 0 1px 2px rgba(60, 64, 67, 0.3), 0 1px 3px 1px rgba(60, 64, 67, 0.15);\n",
              "    fill: var(--button-hover-fill-color);\n",
              "  }\n",
              "\n",
              "  .colab-df-quickchart-complete:disabled,\n",
              "  .colab-df-quickchart-complete:disabled:hover {\n",
              "    background-color: var(--disabled-bg-color);\n",
              "    fill: var(--disabled-fill-color);\n",
              "    box-shadow: none;\n",
              "  }\n",
              "\n",
              "  .colab-df-spinner {\n",
              "    border: 2px solid var(--fill-color);\n",
              "    border-color: transparent;\n",
              "    border-bottom-color: var(--fill-color);\n",
              "    animation:\n",
              "      spin 1s steps(1) infinite;\n",
              "  }\n",
              "\n",
              "  @keyframes spin {\n",
              "    0% {\n",
              "      border-color: transparent;\n",
              "      border-bottom-color: var(--fill-color);\n",
              "      border-left-color: var(--fill-color);\n",
              "    }\n",
              "    20% {\n",
              "      border-color: transparent;\n",
              "      border-left-color: var(--fill-color);\n",
              "      border-top-color: var(--fill-color);\n",
              "    }\n",
              "    30% {\n",
              "      border-color: transparent;\n",
              "      border-left-color: var(--fill-color);\n",
              "      border-top-color: var(--fill-color);\n",
              "      border-right-color: var(--fill-color);\n",
              "    }\n",
              "    40% {\n",
              "      border-color: transparent;\n",
              "      border-right-color: var(--fill-color);\n",
              "      border-top-color: var(--fill-color);\n",
              "    }\n",
              "    60% {\n",
              "      border-color: transparent;\n",
              "      border-right-color: var(--fill-color);\n",
              "    }\n",
              "    80% {\n",
              "      border-color: transparent;\n",
              "      border-right-color: var(--fill-color);\n",
              "      border-bottom-color: var(--fill-color);\n",
              "    }\n",
              "    90% {\n",
              "      border-color: transparent;\n",
              "      border-bottom-color: var(--fill-color);\n",
              "    }\n",
              "  }\n",
              "</style>\n",
              "\n",
              "  <script>\n",
              "    async function quickchart(key) {\n",
              "      const quickchartButtonEl =\n",
              "        document.querySelector('#' + key + ' button');\n",
              "      quickchartButtonEl.disabled = true;  // To prevent multiple clicks.\n",
              "      quickchartButtonEl.classList.add('colab-df-spinner');\n",
              "      try {\n",
              "        const charts = await google.colab.kernel.invokeFunction(\n",
              "            'suggestCharts', [key], {});\n",
              "      } catch (error) {\n",
              "        console.error('Error during call to suggestCharts:', error);\n",
              "      }\n",
              "      quickchartButtonEl.classList.remove('colab-df-spinner');\n",
              "      quickchartButtonEl.classList.add('colab-df-quickchart-complete');\n",
              "    }\n",
              "    (() => {\n",
              "      let quickchartButtonEl =\n",
              "        document.querySelector('#df-31943114-d73b-486d-a135-30ba5a34685d button');\n",
              "      quickchartButtonEl.style.display =\n",
              "        google.colab.kernel.accessAllowed ? 'block' : 'none';\n",
              "    })();\n",
              "  </script>\n",
              "</div>\n",
              "    </div>\n",
              "  </div>\n"
            ]
          },
          "metadata": {},
          "execution_count": 10
        }
      ],
      "source": [
        "from sklearn.preprocessing import StandardScaler\n",
        "scaler = StandardScaler()\n",
        "X = scaler.fit_transform(x_train)\n",
        "model = pd.DataFrame(X)\n",
        "model"
      ]
    },
    {
      "cell_type": "markdown",
      "source": [
        "#Redes Neurais - RN"
      ],
      "metadata": {
        "id": "WPlSSJNUjLEL"
      }
    },
    {
      "cell_type": "markdown",
      "source": [
        "##Criação do Modelo"
      ],
      "metadata": {
        "id": "r3ndF7e3ja-v"
      }
    },
    {
      "cell_type": "code",
      "execution_count": null,
      "metadata": {
        "id": "dMADHguIYlQy",
        "colab": {
          "base_uri": "https://localhost:8080/"
        },
        "outputId": "f01b8260-cbf8-44ea-8ec2-6d892826b310"
      },
      "outputs": [
        {
          "output_type": "stream",
          "name": "stderr",
          "text": [
            "/usr/local/lib/python3.10/dist-packages/sklearn/preprocessing/_label.py:116: DataConversionWarning: A column-vector y was passed when a 1d array was expected. Please change the shape of y to (n_samples, ), for example using ravel().\n",
            "  y = column_or_1d(y, warn=True)\n",
            "/usr/local/lib/python3.10/dist-packages/sklearn/preprocessing/_label.py:134: DataConversionWarning: A column-vector y was passed when a 1d array was expected. Please change the shape of y to (n_samples, ), for example using ravel().\n",
            "  y = column_or_1d(y, dtype=self.classes_.dtype, warn=True)\n"
          ]
        }
      ],
      "source": [
        "from sklearn.preprocessing import LabelEncoder\n",
        "from tensorflow.keras.utils import to_categorical\n",
        "\n",
        "label_encoder = LabelEncoder()\n",
        "y_train_encoded = label_encoder.fit_transform(y_train)\n",
        "y_valid_encoded = label_encoder.transform(y_valid)\n",
        "y_train_encoded = to_categorical(y_train)\n",
        "y_valid_encoded = to_categorical(y_valid)\n"
      ]
    },
    {
      "cell_type": "code",
      "execution_count": null,
      "metadata": {
        "id": "b77pONC0YlQz"
      },
      "outputs": [],
      "source": [
        "import tensorflow as tf\n",
        "from tensorflow.keras.models import Sequential\n",
        "from tensorflow.keras.layers import Dense\n",
        "\n",
        "model = Sequential()\n",
        "model.add(Dense(64, input_dim=x_train.shape[1], activation='relu'))\n",
        "model.add(Dense(32, activation='relu'))\n",
        "model.add(Dense(num_classes, activation='softmax'))  # num_classes is the number of unique classes in your target variable"
      ]
    },
    {
      "cell_type": "markdown",
      "metadata": {
        "id": "Qkv1nqT4YlQz"
      },
      "source": [
        "## Sumarização do Modelo"
      ]
    },
    {
      "cell_type": "code",
      "source": [
        "model.summary()"
      ],
      "metadata": {
        "colab": {
          "base_uri": "https://localhost:8080/"
        },
        "id": "Y6ndAImacD9E",
        "outputId": "faf3a201-37e6-4489-fceb-487995d6d691"
      },
      "execution_count": null,
      "outputs": [
        {
          "output_type": "stream",
          "name": "stdout",
          "text": [
            "Model: \"sequential\"\n",
            "_________________________________________________________________\n",
            " Layer (type)                Output Shape              Param #   \n",
            "=================================================================\n",
            " dense (Dense)               (None, 64)                50240     \n",
            "                                                                 \n",
            " dense_1 (Dense)             (None, 32)                2080      \n",
            "                                                                 \n",
            " dense_2 (Dense)             (None, 10)                330       \n",
            "                                                                 \n",
            "=================================================================\n",
            "Total params: 52650 (205.66 KB)\n",
            "Trainable params: 52650 (205.66 KB)\n",
            "Non-trainable params: 0 (0.00 Byte)\n",
            "_________________________________________________________________\n"
          ]
        }
      ]
    },
    {
      "cell_type": "markdown",
      "metadata": {
        "id": "L3CX93niYlQ0"
      },
      "source": [
        "## Compilação do Modelo"
      ]
    },
    {
      "cell_type": "code",
      "execution_count": null,
      "metadata": {
        "id": "4dAZNslvYlQ0"
      },
      "outputs": [],
      "source": [
        "model.compile(loss='categorical_crossentropy', optimizer='adam', metrics=['accuracy'])"
      ]
    },
    {
      "cell_type": "markdown",
      "metadata": {
        "id": "6RJS-5zRYlQ0"
      },
      "source": [
        "## Treinando o Modelo"
      ]
    },
    {
      "cell_type": "code",
      "execution_count": null,
      "metadata": {
        "id": "nfmvhZqfYlQ0",
        "colab": {
          "base_uri": "https://localhost:8080/"
        },
        "outputId": "197e2a77-3303-44d9-df19-5930fc1528d1"
      },
      "outputs": [
        {
          "output_type": "stream",
          "name": "stdout",
          "text": [
            "Epoch 1/20\n",
            "1875/1875 [==============================] - 14s 4ms/step - loss: 0.7654 - accuracy: 0.8719 - val_loss: 0.2828 - val_accuracy: 0.9372\n",
            "Epoch 2/20\n",
            "1875/1875 [==============================] - 9s 5ms/step - loss: 0.1916 - accuracy: 0.9551 - val_loss: 0.2319 - val_accuracy: 0.9512\n",
            "Epoch 3/20\n",
            "1875/1875 [==============================] - 7s 4ms/step - loss: 0.1338 - accuracy: 0.9665 - val_loss: 0.2044 - val_accuracy: 0.9615\n",
            "Epoch 4/20\n",
            "1875/1875 [==============================] - 10s 5ms/step - loss: 0.1056 - accuracy: 0.9732 - val_loss: 0.1670 - val_accuracy: 0.9675\n",
            "Epoch 5/20\n",
            "1875/1875 [==============================] - 7s 4ms/step - loss: 0.0778 - accuracy: 0.9798 - val_loss: 0.1794 - val_accuracy: 0.9629\n",
            "Epoch 6/20\n",
            "1875/1875 [==============================] - 10s 5ms/step - loss: 0.0735 - accuracy: 0.9810 - val_loss: 0.1906 - val_accuracy: 0.9659\n",
            "Epoch 7/20\n",
            "1875/1875 [==============================] - 9s 5ms/step - loss: 0.0674 - accuracy: 0.9826 - val_loss: 0.1432 - val_accuracy: 0.9723\n",
            "Epoch 8/20\n",
            "1875/1875 [==============================] - 8s 4ms/step - loss: 0.0585 - accuracy: 0.9852 - val_loss: 0.1601 - val_accuracy: 0.9668\n",
            "Epoch 9/20\n",
            "1875/1875 [==============================] - 8s 4ms/step - loss: 0.0525 - accuracy: 0.9866 - val_loss: 0.1270 - val_accuracy: 0.9717\n",
            "Epoch 10/20\n",
            "1875/1875 [==============================] - 9s 5ms/step - loss: 0.0486 - accuracy: 0.9873 - val_loss: 0.1655 - val_accuracy: 0.9729\n",
            "Epoch 11/20\n",
            "1875/1875 [==============================] - 9s 5ms/step - loss: 0.0418 - accuracy: 0.9890 - val_loss: 0.1506 - val_accuracy: 0.9705\n",
            "Epoch 12/20\n",
            "1875/1875 [==============================] - 8s 4ms/step - loss: 0.0407 - accuracy: 0.9901 - val_loss: 0.1781 - val_accuracy: 0.9718\n",
            "Epoch 13/20\n",
            "1875/1875 [==============================] - 9s 5ms/step - loss: 0.0401 - accuracy: 0.9899 - val_loss: 0.1355 - val_accuracy: 0.9741\n",
            "Epoch 14/20\n",
            "1875/1875 [==============================] - 9s 5ms/step - loss: 0.0385 - accuracy: 0.9910 - val_loss: 0.1584 - val_accuracy: 0.9784\n",
            "Epoch 15/20\n",
            "1875/1875 [==============================] - 9s 5ms/step - loss: 0.0401 - accuracy: 0.9902 - val_loss: 0.1759 - val_accuracy: 0.9765\n",
            "Epoch 16/20\n",
            "1875/1875 [==============================] - 8s 4ms/step - loss: 0.0322 - accuracy: 0.9917 - val_loss: 0.1855 - val_accuracy: 0.9741\n",
            "Epoch 17/20\n",
            "1875/1875 [==============================] - 9s 5ms/step - loss: 0.0299 - accuracy: 0.9926 - val_loss: 0.2157 - val_accuracy: 0.9713\n",
            "Epoch 18/20\n",
            "1875/1875 [==============================] - 8s 4ms/step - loss: 0.0331 - accuracy: 0.9924 - val_loss: 0.1932 - val_accuracy: 0.9756\n",
            "Epoch 19/20\n",
            "1875/1875 [==============================] - 9s 5ms/step - loss: 0.0344 - accuracy: 0.9914 - val_loss: 0.2376 - val_accuracy: 0.9739\n",
            "Epoch 20/20\n",
            "1875/1875 [==============================] - 7s 4ms/step - loss: 0.0262 - accuracy: 0.9931 - val_loss: 0.1939 - val_accuracy: 0.9746\n"
          ]
        },
        {
          "output_type": "execute_result",
          "data": {
            "text/plain": [
              "<keras.src.callbacks.History at 0x7b2c21760c10>"
            ]
          },
          "metadata": {},
          "execution_count": 15
        }
      ],
      "source": [
        "model.fit(x_train, y_train_encoded, epochs=20, batch_size=32, validation_data=(x_valid, y_valid_encoded))"
      ]
    },
    {
      "cell_type": "markdown",
      "source": [
        "#Redes Neurais Convolucionais - CNN"
      ],
      "metadata": {
        "id": "XwtEiKwvkI3E"
      }
    },
    {
      "cell_type": "markdown",
      "source": [
        "##Criação do Modelo"
      ],
      "metadata": {
        "id": "7Vzr9Ewvkp02"
      }
    },
    {
      "cell_type": "code",
      "source": [
        "num_classes = 10\n",
        "y_train = keras.utils.to_categorical(y_train, num_classes)\n",
        "y_valid = keras.utils.to_categorical(y_valid, num_classes)\n",
        "x_train = x_train / 255\n",
        "x_valid = x_valid / 255\n",
        "x_train = x_train.reshape(-1,28,28,1)\n",
        "x_valid = x_valid.reshape(-1,28,28,1)\n",
        "x_train.shape, x_valid.shape"
      ],
      "metadata": {
        "colab": {
          "base_uri": "https://localhost:8080/"
        },
        "id": "hATxSARxkNOP",
        "outputId": "80e2e7e0-57b1-4499-d3bc-53710c17f6da"
      },
      "execution_count": null,
      "outputs": [
        {
          "output_type": "execute_result",
          "data": {
            "text/plain": [
              "((59999, 28, 28, 1), (9999, 28, 28, 1))"
            ]
          },
          "metadata": {},
          "execution_count": 16
        }
      ]
    },
    {
      "cell_type": "code",
      "source": [
        "from tensorflow.keras.models import Sequential\n",
        "from tensorflow.keras.layers import (\n",
        "    Dense,\n",
        "    Conv2D,\n",
        "    MaxPool2D,\n",
        "    Flatten,\n",
        "    Dropout,\n",
        "    BatchNormalization,\n",
        ")\n",
        "\n",
        "model = Sequential()\n",
        "model.add(Conv2D(75, (3, 3), strides=1, padding=\"same\", activation=\"relu\",\n",
        "                 input_shape=(28, 28, 1)))\n",
        "model.add(BatchNormalization())\n",
        "model.add(MaxPool2D((2, 2), strides=2, padding=\"same\"))\n",
        "model.add(Conv2D(50, (3, 3), strides=1, padding=\"same\", activation=\"relu\"))\n",
        "model.add(Dropout(0.2))\n",
        "model.add(BatchNormalization())\n",
        "model.add(MaxPool2D((2, 2), strides=2, padding=\"same\"))\n",
        "model.add(Conv2D(25, (3, 3), strides=1, padding=\"same\", activation=\"relu\"))\n",
        "model.add(BatchNormalization())\n",
        "model.add(MaxPool2D((2, 2), strides=2, padding=\"same\"))\n",
        "model.add(Flatten())\n",
        "model.add(Dense(units=512, activation=\"relu\"))\n",
        "model.add(Dropout(0.3))\n",
        "model.add(Dense(units=num_classes, activation=\"softmax\"))"
      ],
      "metadata": {
        "id": "fCCvdwBikWuX"
      },
      "execution_count": null,
      "outputs": []
    },
    {
      "cell_type": "markdown",
      "source": [
        "##Sumarização do Modelo"
      ],
      "metadata": {
        "id": "R7Cf5Drykv3g"
      }
    },
    {
      "cell_type": "code",
      "source": [
        "model.summary()"
      ],
      "metadata": {
        "colab": {
          "base_uri": "https://localhost:8080/"
        },
        "id": "NEwe9t6YkYyD",
        "outputId": "a31c97a5-2144-4c03-cdc0-7d112bcf8967"
      },
      "execution_count": null,
      "outputs": [
        {
          "output_type": "stream",
          "name": "stdout",
          "text": [
            "Model: \"sequential_1\"\n",
            "_________________________________________________________________\n",
            " Layer (type)                Output Shape              Param #   \n",
            "=================================================================\n",
            " conv2d (Conv2D)             (None, 28, 28, 75)        750       \n",
            "                                                                 \n",
            " batch_normalization (Batch  (None, 28, 28, 75)        300       \n",
            " Normalization)                                                  \n",
            "                                                                 \n",
            " max_pooling2d (MaxPooling2  (None, 14, 14, 75)        0         \n",
            " D)                                                              \n",
            "                                                                 \n",
            " conv2d_1 (Conv2D)           (None, 14, 14, 50)        33800     \n",
            "                                                                 \n",
            " dropout (Dropout)           (None, 14, 14, 50)        0         \n",
            "                                                                 \n",
            " batch_normalization_1 (Bat  (None, 14, 14, 50)        200       \n",
            " chNormalization)                                                \n",
            "                                                                 \n",
            " max_pooling2d_1 (MaxPoolin  (None, 7, 7, 50)          0         \n",
            " g2D)                                                            \n",
            "                                                                 \n",
            " conv2d_2 (Conv2D)           (None, 7, 7, 25)          11275     \n",
            "                                                                 \n",
            " batch_normalization_2 (Bat  (None, 7, 7, 25)          100       \n",
            " chNormalization)                                                \n",
            "                                                                 \n",
            " max_pooling2d_2 (MaxPoolin  (None, 4, 4, 25)          0         \n",
            " g2D)                                                            \n",
            "                                                                 \n",
            " flatten (Flatten)           (None, 400)               0         \n",
            "                                                                 \n",
            " dense_3 (Dense)             (None, 512)               205312    \n",
            "                                                                 \n",
            " dropout_1 (Dropout)         (None, 512)               0         \n",
            "                                                                 \n",
            " dense_4 (Dense)             (None, 10)                5130      \n",
            "                                                                 \n",
            "=================================================================\n",
            "Total params: 256867 (1003.39 KB)\n",
            "Trainable params: 256567 (1002.21 KB)\n",
            "Non-trainable params: 300 (1.17 KB)\n",
            "_________________________________________________________________\n"
          ]
        }
      ]
    },
    {
      "cell_type": "markdown",
      "source": [
        "## Compilação do Modelo"
      ],
      "metadata": {
        "id": "-Ucgh_kFkzLx"
      }
    },
    {
      "cell_type": "code",
      "source": [
        "model.compile(loss=\"categorical_crossentropy\", metrics=[\"accuracy\"])"
      ],
      "metadata": {
        "id": "pL-nav0wkagX"
      },
      "execution_count": null,
      "outputs": []
    },
    {
      "cell_type": "markdown",
      "source": [
        "## Treinando o Modelo"
      ],
      "metadata": {
        "id": "QlF0wuntk2-X"
      }
    },
    {
      "cell_type": "code",
      "source": [
        "model.fit(x_train, y_train, epochs=20, verbose=1, validation_data=(x_valid, y_valid))"
      ],
      "metadata": {
        "colab": {
          "base_uri": "https://localhost:8080/"
        },
        "id": "-WDyINo8kby3",
        "outputId": "2ad62e0f-b727-454f-ea44-929a6c57f49c"
      },
      "execution_count": null,
      "outputs": [
        {
          "output_type": "stream",
          "name": "stdout",
          "text": [
            "Epoch 1/20\n",
            "1875/1875 [==============================] - 23s 8ms/step - loss: 0.0756 - accuracy: 0.9803 - val_loss: 0.0499 - val_accuracy: 0.9877\n",
            "Epoch 2/20\n",
            "1875/1875 [==============================] - 14s 8ms/step - loss: 0.0366 - accuracy: 0.9910 - val_loss: 0.0352 - val_accuracy: 0.9908\n",
            "Epoch 3/20\n",
            "1875/1875 [==============================] - 14s 7ms/step - loss: 0.0291 - accuracy: 0.9931 - val_loss: 0.0438 - val_accuracy: 0.9894\n",
            "Epoch 4/20\n",
            "1875/1875 [==============================] - 13s 7ms/step - loss: 0.0234 - accuracy: 0.9943 - val_loss: 0.0469 - val_accuracy: 0.9909\n",
            "Epoch 5/20\n",
            "1875/1875 [==============================] - 14s 7ms/step - loss: 0.0216 - accuracy: 0.9950 - val_loss: 0.0526 - val_accuracy: 0.9902\n",
            "Epoch 6/20\n",
            "1875/1875 [==============================] - 14s 7ms/step - loss: 0.0183 - accuracy: 0.9957 - val_loss: 0.0430 - val_accuracy: 0.9893\n",
            "Epoch 7/20\n",
            "1875/1875 [==============================] - 14s 7ms/step - loss: 0.0148 - accuracy: 0.9964 - val_loss: 0.0420 - val_accuracy: 0.9912\n",
            "Epoch 8/20\n",
            "1875/1875 [==============================] - 14s 7ms/step - loss: 0.0142 - accuracy: 0.9965 - val_loss: 0.0426 - val_accuracy: 0.9919\n",
            "Epoch 9/20\n",
            "1875/1875 [==============================] - 13s 7ms/step - loss: 0.0134 - accuracy: 0.9965 - val_loss: 0.0348 - val_accuracy: 0.9933\n",
            "Epoch 10/20\n",
            "1875/1875 [==============================] - 13s 7ms/step - loss: 0.0120 - accuracy: 0.9971 - val_loss: 0.0448 - val_accuracy: 0.9920\n",
            "Epoch 11/20\n",
            "1875/1875 [==============================] - 13s 7ms/step - loss: 0.0094 - accuracy: 0.9978 - val_loss: 0.0471 - val_accuracy: 0.9918\n",
            "Epoch 12/20\n",
            "1875/1875 [==============================] - 14s 7ms/step - loss: 0.0096 - accuracy: 0.9976 - val_loss: 0.0491 - val_accuracy: 0.9910\n",
            "Epoch 13/20\n",
            "1875/1875 [==============================] - 14s 8ms/step - loss: 0.0085 - accuracy: 0.9978 - val_loss: 0.0442 - val_accuracy: 0.9922\n",
            "Epoch 14/20\n",
            "1875/1875 [==============================] - 14s 7ms/step - loss: 0.0087 - accuracy: 0.9979 - val_loss: 0.0445 - val_accuracy: 0.9912\n",
            "Epoch 15/20\n",
            "1875/1875 [==============================] - 13s 7ms/step - loss: 0.0078 - accuracy: 0.9982 - val_loss: 0.0419 - val_accuracy: 0.9924\n",
            "Epoch 16/20\n",
            "1875/1875 [==============================] - 13s 7ms/step - loss: 0.0072 - accuracy: 0.9983 - val_loss: 0.0602 - val_accuracy: 0.9916\n",
            "Epoch 17/20\n",
            "1875/1875 [==============================] - 14s 7ms/step - loss: 0.0056 - accuracy: 0.9986 - val_loss: 0.0480 - val_accuracy: 0.9913\n",
            "Epoch 18/20\n",
            "1875/1875 [==============================] - 14s 8ms/step - loss: 0.0052 - accuracy: 0.9986 - val_loss: 0.0492 - val_accuracy: 0.9926\n",
            "Epoch 19/20\n",
            "1875/1875 [==============================] - 14s 8ms/step - loss: 0.0053 - accuracy: 0.9987 - val_loss: 0.0504 - val_accuracy: 0.9900\n",
            "Epoch 20/20\n",
            "1875/1875 [==============================] - 14s 8ms/step - loss: 0.0057 - accuracy: 0.9986 - val_loss: 0.0476 - val_accuracy: 0.9914\n"
          ]
        },
        {
          "output_type": "execute_result",
          "data": {
            "text/plain": [
              "<keras.src.callbacks.History at 0x7b2c0c5fa050>"
            ]
          },
          "metadata": {},
          "execution_count": 20
        }
      ]
    },
    {
      "cell_type": "markdown",
      "metadata": {
        "id": "u2oLKIsNYlQ1"
      },
      "source": [
        "# Apagando a Memória\n",
        "Essas funções podem apagar o modelo da memória para que seja possível treiná-lo"
      ]
    },
    {
      "cell_type": "code",
      "execution_count": null,
      "metadata": {
        "id": "KxHTU5gOYlQ2"
      },
      "outputs": [],
      "source": [
        "#import IPython\n",
        "#app = IPython.Application.instance()\n",
        "#app.kernel.do_shutdown(True)"
      ]
    },
    {
      "cell_type": "markdown",
      "source": [
        "#Conclusão"
      ],
      "metadata": {
        "id": "UR1gO82lj5wU"
      }
    }
  ],
  "metadata": {
    "kernelspec": {
      "display_name": "Python 3 (ipykernel)",
      "language": "python",
      "name": "python3"
    },
    "language_info": {
      "codemirror_mode": {
        "name": "ipython",
        "version": 3
      },
      "file_extension": ".py",
      "mimetype": "text/x-python",
      "name": "python",
      "nbconvert_exporter": "python",
      "pygments_lexer": "ipython3",
      "version": "3.8.10"
    },
    "colab": {
      "provenance": [],
      "machine_shape": "hm",
      "toc_visible": true,
      "include_colab_link": true
    },
    "accelerator": "GPU"
  },
  "nbformat": 4,
  "nbformat_minor": 0
}